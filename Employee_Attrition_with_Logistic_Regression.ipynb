{
  "cells": [
    {
      "cell_type": "markdown",
      "id": "d6700f10",
      "metadata": {
        "id": "d6700f10"
      },
      "source": [
        "### Import the necessary libraries"
      ]
    },
    {
      "cell_type": "code",
      "execution_count": 8,
      "id": "d60f33c8",
      "metadata": {
        "id": "d60f33c8"
      },
      "outputs": [
        {
          "ename": "ModuleNotFoundError",
          "evalue": "No module named 'sklearn'",
          "output_type": "error",
          "traceback": [
            "\u001b[0;31m---------------------------------------------------------------------------\u001b[0m",
            "\u001b[0;31mModuleNotFoundError\u001b[0m                       Traceback (most recent call last)",
            "Cell \u001b[0;32mIn[8], line 7\u001b[0m\n\u001b[1;32m      4\u001b[0m \u001b[39mimport\u001b[39;00m \u001b[39mseaborn\u001b[39;00m \u001b[39mas\u001b[39;00m \u001b[39msns\u001b[39;00m\n\u001b[1;32m      6\u001b[0m \u001b[39m#to scale the data using z-score \u001b[39;00m\n\u001b[0;32m----> 7\u001b[0m \u001b[39mfrom\u001b[39;00m \u001b[39msklearn\u001b[39;00m\u001b[39m.\u001b[39;00m\u001b[39mpreprocessing\u001b[39;00m \u001b[39mimport\u001b[39;00m StandardScaler\n\u001b[1;32m      9\u001b[0m \u001b[39mfrom\u001b[39;00m \u001b[39msklearn\u001b[39;00m\u001b[39m.\u001b[39;00m\u001b[39mmodel_selection\u001b[39;00m \u001b[39mimport\u001b[39;00m train_test_split\n\u001b[1;32m     11\u001b[0m \u001b[39m#algorithms to use\u001b[39;00m\n",
            "\u001b[0;31mModuleNotFoundError\u001b[0m: No module named 'sklearn'"
          ]
        }
      ],
      "source": [
        "import pandas as pd\n",
        "import numpy as np\n",
        "import matplotlib.pyplot as plt\n",
        "import seaborn as sns\n",
        "\n",
        "#to scale the data using z-score \n",
        "from sklearn.preprocessing import StandardScaler\n",
        "\n",
        "from sklearn.model_selection import train_test_split\n",
        "\n",
        "#algorithms to use\n",
        "from sklearn.linear_model import LogisticRegression\n",
        "\n",
        "#Metrics to evaluate the model\n",
        "from sklearn.metrics import confusion_matrix, classification_report, precision_recall_curve\n",
        "\n",
        "#to ignore warnings\n",
        "import warnings\n",
        "warnings.filterwarnings(\"ignore\")"
      ]
    },
    {
      "cell_type": "markdown",
      "id": "91a960cf",
      "metadata": {
        "id": "91a960cf"
      },
      "source": [
        "### Read the dataset"
      ]
    },
    {
      "cell_type": "code",
      "execution_count": null,
      "id": "ff29bb95",
      "metadata": {
        "id": "ff29bb95"
      },
      "outputs": [
        {
          "ename": "",
          "evalue": "",
          "output_type": "error",
          "traceback": [
            "\u001b[1;31mJupyter cannot be started. Error attempting to locate Jupyter: Select an Interpreter to start Jupyter\n",
            "\u001b[1;31mRun the following command to install 'jupyter and notebook' into the Python environment. \n",
            "\u001b[1;31mCommand: 'python -m pip install jupyter notebook -U\n",
            "\u001b[1;31mor\n",
            "\u001b[1;31mconda install jupyter notebook -U'\n",
            "\u001b[1;31mClick <a href='https://aka.ms/installJupyterForVSCode'>here</a> for more info."
          ]
        }
      ],
      "source": [
        "#reading the dataset\n",
        "import pandas as pd\n",
        "import requests\n",
        "from io import StringIO  \n",
        "\n",
        "orig_url=\"https://drive.google.com/file/d/147Z67u4-bp_ZVlbc18dg6J3h9ORRlCcW/view?usp=sharing\"\n",
        "\n",
        "file_id = orig_url.split('/')[-2]\n",
        "dwn_url='https://drive.google.com/uc?export=download&id=' + file_id\n",
        "url = requests.get(dwn_url).text\n",
        "\n",
        "csv_raw = StringIO(url)\n",
        "employees = pd.read_csv(csv_raw)"
      ]
    },
    {
      "cell_type": "code",
      "execution_count": null,
      "id": "6cc2e7f0",
      "metadata": {
        "colab": {
          "base_uri": "https://localhost:8080/",
          "height": 357
        },
        "id": "6cc2e7f0",
        "outputId": "59cf7f7d-8b75-4073-b858-04f1aeda9b99"
      },
      "outputs": [
        {
          "ename": "",
          "evalue": "",
          "output_type": "error",
          "traceback": [
            "\u001b[1;31mJupyter cannot be started. Error attempting to locate Jupyter: Select an Interpreter to start Jupyter\n",
            "\u001b[1;31mRun the following command to install 'jupyter and notebook' into the Python environment. \n",
            "\u001b[1;31mCommand: 'python -m pip install jupyter notebook -U\n",
            "\u001b[1;31mor\n",
            "\u001b[1;31mconda install jupyter notebook -U'\n",
            "\u001b[1;31mClick <a href='https://aka.ms/installJupyterForVSCode'>here</a> for more info."
          ]
        }
      ],
      "source": [
        "employees.head()"
      ]
    },
    {
      "cell_type": "markdown",
      "id": "f367a777",
      "metadata": {
        "id": "f367a777"
      },
      "source": [
        "### Printing the info"
      ]
    },
    {
      "cell_type": "code",
      "execution_count": null,
      "id": "e366b601",
      "metadata": {
        "colab": {
          "base_uri": "https://localhost:8080/"
        },
        "id": "e366b601",
        "outputId": "791ad91d-ab95-4d5f-962a-34ac1cfb3cff"
      },
      "outputs": [
        {
          "ename": "",
          "evalue": "",
          "output_type": "error",
          "traceback": [
            "\u001b[1;31mJupyter cannot be started. Error attempting to locate Jupyter: Select an Interpreter to start Jupyter\n",
            "\u001b[1;31mRun the following command to install 'jupyter and notebook' into the Python environment. \n",
            "\u001b[1;31mCommand: 'python -m pip install jupyter notebook -U\n",
            "\u001b[1;31mor\n",
            "\u001b[1;31mconda install jupyter notebook -U'\n",
            "\u001b[1;31mClick <a href='https://aka.ms/installJupyterForVSCode'>here</a> for more info."
          ]
        }
      ],
      "source": [
        "employees.info()"
      ]
    },
    {
      "cell_type": "markdown",
      "id": "f1f5de53",
      "metadata": {
        "id": "f1f5de53"
      },
      "source": [
        "**Observation:**\n",
        "- There are 2940 observations and 33 columns.\n",
        "- All the column have 2940 non-null values i.e. there are no missing values in the data."
      ]
    },
    {
      "cell_type": "markdown",
      "id": "09b353cb",
      "metadata": {
        "id": "09b353cb"
      },
      "source": [
        "**Let's check the unique values in each column** "
      ]
    },
    {
      "cell_type": "code",
      "execution_count": null,
      "id": "9b8f1776",
      "metadata": {
        "colab": {
          "base_uri": "https://localhost:8080/"
        },
        "id": "9b8f1776",
        "outputId": "ce9baa41-9e09-4644-f633-53409e3a2a03"
      },
      "outputs": [
        {
          "ename": "",
          "evalue": "",
          "output_type": "error",
          "traceback": [
            "\u001b[1;31mJupyter cannot be started. Error attempting to locate Jupyter: Select an Interpreter to start Jupyter\n",
            "\u001b[1;31mRun the following command to install 'jupyter and notebook' into the Python environment. \n",
            "\u001b[1;31mCommand: 'python -m pip install jupyter notebook -U\n",
            "\u001b[1;31mor\n",
            "\u001b[1;31mconda install jupyter notebook -U'\n",
            "\u001b[1;31mClick <a href='https://aka.ms/installJupyterForVSCode'>here</a> for more info."
          ]
        }
      ],
      "source": [
        "#checking unique values in each column\n",
        "employees.nunique()"
      ]
    },
    {
      "cell_type": "markdown",
      "id": "8182513f",
      "metadata": {
        "id": "8182513f"
      },
      "source": [
        "**Observation:**\n",
        "- Employee number is an identifier which is unique for each employee and we can drop this column as it would not add any value to our analysis.\n",
        "- Over18 and StandardHours have only 1 unique value. These column will not add any value to our model hence we can drop them.\n",
        "- On the basis of number of unique values in each column and the data description, we can identify the continuous and categorical columns in the data.\n",
        "\n",
        "Let's drop the columns mentioned above and define lists for numerical and categorical columns to apply explore them separately."
      ]
    },
    {
      "cell_type": "code",
      "execution_count": null,
      "id": "2b73820f",
      "metadata": {
        "id": "2b73820f"
      },
      "outputs": [
        {
          "ename": "",
          "evalue": "",
          "output_type": "error",
          "traceback": [
            "\u001b[1;31mJupyter cannot be started. Error attempting to locate Jupyter: Select an Interpreter to start Jupyter\n",
            "\u001b[1;31mRun the following command to install 'jupyter and notebook' into the Python environment. \n",
            "\u001b[1;31mCommand: 'python -m pip install jupyter notebook -U\n",
            "\u001b[1;31mor\n",
            "\u001b[1;31mconda install jupyter notebook -U'\n",
            "\u001b[1;31mClick <a href='https://aka.ms/installJupyterForVSCode'>here</a> for more info."
          ]
        }
      ],
      "source": [
        "#dropping the columns \n",
        "employees=employees.drop(['EmployeeNumber','Over18','StandardHours'],axis=1)"
      ]
    },
    {
      "cell_type": "code",
      "execution_count": null,
      "id": "188e22ec",
      "metadata": {
        "id": "188e22ec"
      },
      "outputs": [
        {
          "ename": "",
          "evalue": "",
          "output_type": "error",
          "traceback": [
            "\u001b[1;31mJupyter cannot be started. Error attempting to locate Jupyter: Select an Interpreter to start Jupyter\n",
            "\u001b[1;31mRun the following command to install 'jupyter and notebook' into the Python environment. \n",
            "\u001b[1;31mCommand: 'python -m pip install jupyter notebook -U\n",
            "\u001b[1;31mor\n",
            "\u001b[1;31mconda install jupyter notebook -U'\n",
            "\u001b[1;31mClick <a href='https://aka.ms/installJupyterForVSCode'>here</a> for more info."
          ]
        }
      ],
      "source": [
        "#Creating numerical columns\n",
        "num_cols=['DailyRate','Age','DistanceFromHome','MonthlyIncome','MonthlyRate','PercentSalaryHike','TotalWorkingYears',\n",
        "          'YearsAtCompany','NumCompaniesWorked','HourlyRate',\n",
        "          'YearsInCurrentRole','YearsSinceLastPromotion','YearsWithCurrManager','TrainingTimesLastYear']\n",
        "\n",
        "#Creating categorical variables \n",
        "cat_cols= ['Attrition','OverTime','BusinessTravel', 'Department','Education', 'EducationField','JobSatisfaction','EnvironmentSatisfaction','WorkLifeBalance',\n",
        "           'StockOptionLevel','Gender', 'PerformanceRating', 'JobInvolvement','JobLevel', 'JobRole', 'MaritalStatus','RelationshipSatisfaction']"
      ]
    },
    {
      "cell_type": "markdown",
      "id": "7c1a436f",
      "metadata": {
        "id": "7c1a436f"
      },
      "source": [
        "### Let's start with univariate analysis of numerical columns"
      ]
    },
    {
      "cell_type": "code",
      "execution_count": null,
      "id": "fb41a488",
      "metadata": {
        "colab": {
          "base_uri": "https://localhost:8080/",
          "height": 488
        },
        "id": "fb41a488",
        "outputId": "071050df-8212-4353-d198-8c3b73195c2d",
        "scrolled": false
      },
      "outputs": [
        {
          "ename": "",
          "evalue": "",
          "output_type": "error",
          "traceback": [
            "\u001b[1;31mJupyter cannot be started. Error attempting to locate Jupyter: Select an Interpreter to start Jupyter\n",
            "\u001b[1;31mRun the following command to install 'jupyter and notebook' into the Python environment. \n",
            "\u001b[1;31mCommand: 'python -m pip install jupyter notebook -U\n",
            "\u001b[1;31mor\n",
            "\u001b[1;31mconda install jupyter notebook -U'\n",
            "\u001b[1;31mClick <a href='https://aka.ms/installJupyterForVSCode'>here</a> for more info."
          ]
        }
      ],
      "source": [
        "#Checking summary statistics\n",
        "employees[num_cols].describe().T"
      ]
    },
    {
      "cell_type": "markdown",
      "id": "3fa3d39e",
      "metadata": {
        "id": "3fa3d39e"
      },
      "source": [
        "- **Average employee age is around 37 years**. It has a high range, from 18 years to 60, indicating good age diversity in the organization.\n",
        "- **At least 50% of the employees live within a 7 km radius** from the organization. However there are some extreme values, seeing as the maximum value is 29 km.\n",
        "- **The average monthly income of an employee is USD 6500.** It has a high range of values from 1K-20K, which is to be expected for any organization's income distribution. There is a big difference between the 3rd quartile value (around USD 8400) and the maximum value (nearly USD 20000), showing that the **company's highest earners have a disproportionately large income** in comparison to the rest of the employees. Again, this is fairly common in most organizations.\n",
        "- **Average salary hike of an employee is around 15%.** At least 50% of employees got a salary hike 14% or less, with the maximum salary hike being 25%.\n",
        "- Average number of years an employee is associated with the company is 7. \n",
        "- **On average, the number of years since an employee got a promotion is 2.18**. The majority of employees have been promoted since the last year."
      ]
    },
    {
      "cell_type": "markdown",
      "id": "3283a6be",
      "metadata": {
        "id": "3283a6be"
      },
      "source": [
        "Let's explore these variables in some more depth by observing their distributions"
      ]
    },
    {
      "cell_type": "code",
      "execution_count": null,
      "id": "6b1e0479",
      "metadata": {
        "colab": {
          "base_uri": "https://localhost:8080/",
          "height": 825
        },
        "id": "6b1e0479",
        "outputId": "d76d671c-eb70-4c05-ea42-e48c42aae2d4"
      },
      "outputs": [
        {
          "ename": "",
          "evalue": "",
          "output_type": "error",
          "traceback": [
            "\u001b[1;31mJupyter cannot be started. Error attempting to locate Jupyter: Select an Interpreter to start Jupyter\n",
            "\u001b[1;31mRun the following command to install 'jupyter and notebook' into the Python environment. \n",
            "\u001b[1;31mCommand: 'python -m pip install jupyter notebook -U\n",
            "\u001b[1;31mor\n",
            "\u001b[1;31mconda install jupyter notebook -U'\n",
            "\u001b[1;31mClick <a href='https://aka.ms/installJupyterForVSCode'>here</a> for more info."
          ]
        }
      ],
      "source": [
        "#creating histograms\n",
        "employees[num_cols].hist(figsize=(14,14))\n",
        "plt.show()"
      ]
    },
    {
      "cell_type": "markdown",
      "id": "ec26cfc8",
      "metadata": {
        "id": "ec26cfc8"
      },
      "source": [
        "**Observations:**\n",
        "\n",
        "- **The age distribution is close to a normal distribution** with the majority of employees between the ages of 25 and 50.\n",
        "\n",
        "- **The percentage salary hike is skewed to the right**, which means employees are mostly getting lower percentage salary increases.\n",
        "\n",
        "- **MonthlyIncome and TotalWorkingYears are skewed to the right**, indicating that the majority of workers are in entry / mid-level positions in the organization.\n",
        "\n",
        "- **DistanceFromHome also has a right skewed distribution**, meaning most employees live close to work but there are a few that live further away.\n",
        "\n",
        "- **On average, an employee has worked at 2.5 companies.** Most employees have worked at only 1 company.\n",
        "\n",
        "- **The YearsAtCompany variable distribution shows a good proportion of workers with 10+ years**, indicating a significant number of loyal employees at the organization. \n",
        "\n",
        "- **The YearsInCurrentRole distribution has three peaks at 0, 2, and 7.** There are a few employees that have even stayed in the same role for 15 years and more.\n",
        "\n",
        "- **The YearsSinceLastPromotion variable distribution indicates that some employees have not received a promotion in 10-15 years and are still working in the organization.** These employees are assumed to be high work-experience employees in upper-management roles, such as co-founders, C-suite employees and the like.\n",
        "\n",
        "- The distributions of DailyRate, HourlyRate and MonthlyRate appear to be uniform and do not provide much information. It could be that daily rate refers to the income earned per extra day worked while hourly rate could refer to the same concept applied for extra hours worked per day. Since these rates tend to be broadly similiar for multiple employees in the same department, that explains the uniform distribution they show. "
      ]
    },
    {
      "cell_type": "markdown",
      "id": "6e605786",
      "metadata": {
        "id": "6e605786"
      },
      "source": [
        "### Univariate analysis for categorical variables"
      ]
    },
    {
      "cell_type": "code",
      "execution_count": null,
      "id": "1902184e",
      "metadata": {
        "colab": {
          "base_uri": "https://localhost:8080/"
        },
        "id": "1902184e",
        "outputId": "796c624f-aaa7-4e5b-fb46-a544d3aa4a19"
      },
      "outputs": [
        {
          "ename": "",
          "evalue": "",
          "output_type": "error",
          "traceback": [
            "\u001b[1;31mJupyter cannot be started. Error attempting to locate Jupyter: Select an Interpreter to start Jupyter\n",
            "\u001b[1;31mRun the following command to install 'jupyter and notebook' into the Python environment. \n",
            "\u001b[1;31mCommand: 'python -m pip install jupyter notebook -U\n",
            "\u001b[1;31mor\n",
            "\u001b[1;31mconda install jupyter notebook -U'\n",
            "\u001b[1;31mClick <a href='https://aka.ms/installJupyterForVSCode'>here</a> for more info."
          ]
        }
      ],
      "source": [
        "#Printing the % sub categories of each category\n",
        "for i in cat_cols:\n",
        "    print(employees[i].value_counts(normalize=True))\n",
        "    print('*'*40)"
      ]
    },
    {
      "cell_type": "markdown",
      "id": "c093aae2",
      "metadata": {
        "id": "c093aae2"
      },
      "source": [
        "**Observations:**\n",
        "\n",
        "- **The employee attrition rate is 16%.**\n",
        "- **Around 28% of the employees are working overtime.** This number appears to be on the higher side, and might indicate a stressed employee work-life.\n",
        "- 71% of the employees have traveled rarely, while around 19% have to travel frequently.\n",
        "- Around 73% of the employees come from an educational background in the Life Sciences and Medical fields. \n",
        "- Over 65% of employees work in the Research & Development department of the organization.\n",
        "- **Nearly 40% of the employees have low (1) or medium-low (2) job satisfaction** and environment satisfaction in the organization, indicating that the morale of the company appears to be somewhat low.\n",
        "- **Over 30% of the employees show low (1) to medium-low (2) job involvement.** \n",
        "- Over 80% of the employees either have none or very less stock options. \n",
        "- **In terms of performance ratings, none of the employees have rated lower than 3 (excellent).** About 85% of employees have a performance rating equal to 3 (excellent), while the remaining have a rating of 4 (outstanding). This could either mean that the majority of employees are top performers, or  the more likely scenerio is that the organization could be highly lenient with its performance appraisal process."
      ]
    },
    {
      "cell_type": "markdown",
      "id": "bdb2961d",
      "metadata": {
        "id": "bdb2961d"
      },
      "source": [
        "### Bivariate and Multivariate analysis"
      ]
    },
    {
      "cell_type": "markdown",
      "id": "643dd47d",
      "metadata": {
        "id": "643dd47d"
      },
      "source": [
        "**We have analyzed different categorical and numerical variables.** \n",
        "\n",
        "**Let's now check how does attrition rate is related with other categorical variables**"
      ]
    },
    {
      "cell_type": "code",
      "execution_count": null,
      "id": "796c2b07",
      "metadata": {
        "colab": {
          "base_uri": "https://localhost:8080/",
          "height": 1000
        },
        "id": "796c2b07",
        "outputId": "e5cec77c-6d0a-490e-d64b-2014c3cc8278",
        "scrolled": false
      },
      "outputs": [
        {
          "ename": "",
          "evalue": "",
          "output_type": "error",
          "traceback": [
            "\u001b[1;31mJupyter cannot be started. Error attempting to locate Jupyter: Select an Interpreter to start Jupyter\n",
            "\u001b[1;31mRun the following command to install 'jupyter and notebook' into the Python environment. \n",
            "\u001b[1;31mCommand: 'python -m pip install jupyter notebook -U\n",
            "\u001b[1;31mor\n",
            "\u001b[1;31mconda install jupyter notebook -U'\n",
            "\u001b[1;31mClick <a href='https://aka.ms/installJupyterForVSCode'>here</a> for more info."
          ]
        }
      ],
      "source": [
        "for i in cat_cols:\n",
        "    if i!='Attrition':\n",
        "        (pd.crosstab(employees[i],employees['Attrition'],normalize='index')*100).plot(kind='bar',figsize=(8,4),stacked=True)\n",
        "        plt.ylabel('Percentage Attrition %')"
      ]
    },
    {
      "cell_type": "markdown",
      "id": "3f91face",
      "metadata": {
        "id": "3f91face"
      },
      "source": [
        "**Observations:**\n",
        "    \n",
        "- **Employees working overtime have more than a 30% chance of attrition**, \n",
        "which is very high compared to the 10% chance of attrition for employees who do not work extra hours.\n",
        "- As seen earlier, the majority of employees work for the R&D department. The chance of attrition there is ~15%\n",
        "- **Employees working as sales representatives have an attrition rate of around 40%** while HRs and Technicians have an attrition rate of around 25%. The sales and HR departments have higher attrition rates in comparison to an academic department like Research & Development, an observation that makes intuitive sense keeping in mind the differences in those job profiles. The high-pressure and incentive-based nature of Sales and Marketing roles may be contributing to their higher attrition rates.\n",
        "- **The lower the employee's job involvement, the higher their attrition chances appear to be, with 1-rated JobInvolvement employees attriting at 35%.** The reason for this could be that employees with lower job involvement might feel left out or less valued and have already started to explore new options, leading to a higher attrition rate.\n",
        "- **Employees at a lower job level also attrite more,** with 1-rated JobLevel employees showing a nearly 25% chance of attrition. These may be young employees who tend to explore more options in the initial stages of their careers. \n",
        "- **A low work-life balance rating clearly leads employees to attrite**; 30% of those in the 1-rated category show attrition."
      ]
    },
    {
      "cell_type": "markdown",
      "id": "93b053a6",
      "metadata": {
        "id": "93b053a6"
      },
      "source": [
        "**Let's check the relationship between attrition and Numerical variables**"
      ]
    },
    {
      "cell_type": "code",
      "execution_count": null,
      "id": "a6dbb256",
      "metadata": {
        "colab": {
          "base_uri": "https://localhost:8080/",
          "height": 207
        },
        "id": "a6dbb256",
        "outputId": "2884aaa8-d1b2-4e04-8f15-170b98c99a79"
      },
      "outputs": [
        {
          "ename": "",
          "evalue": "",
          "output_type": "error",
          "traceback": [
            "\u001b[1;31mJupyter cannot be started. Error attempting to locate Jupyter: Select an Interpreter to start Jupyter\n",
            "\u001b[1;31mRun the following command to install 'jupyter and notebook' into the Python environment. \n",
            "\u001b[1;31mCommand: 'python -m pip install jupyter notebook -U\n",
            "\u001b[1;31mor\n",
            "\u001b[1;31mconda install jupyter notebook -U'\n",
            "\u001b[1;31mClick <a href='https://aka.ms/installJupyterForVSCode'>here</a> for more info."
          ]
        }
      ],
      "source": [
        "#Mean of numerical varibles grouped by attrition\n",
        "employees.groupby(['Attrition'])[num_cols].mean()"
      ]
    },
    {
      "cell_type": "markdown",
      "id": "d286e106",
      "metadata": {
        "id": "d286e106"
      },
      "source": [
        "**Observations:**\n",
        "- **Employees leaving the company have a nearly 30% lower average income and 30% lesser work experience than those who are not.** These could be the employees looking to explore new options and/or increase their salary with a company switch. \n",
        "- **Employees showing attrition also tend to live 16% further from the office than those who are not**. The longer commute to and from work could mean they have to spend more time/money every day, amd this could be leading to job dissatisfaction and wanting to leave the organization."
      ]
    },
    {
      "cell_type": "markdown",
      "id": "df253009",
      "metadata": {
        "id": "df253009"
      },
      "source": [
        "**We have found out what kind of employees are leaving the company more.**\n",
        "\n",
        "### Let's check the relationship between different numerical variables"
      ]
    },
    {
      "cell_type": "code",
      "execution_count": null,
      "id": "5da1e8ed",
      "metadata": {
        "colab": {
          "base_uri": "https://localhost:8080/",
          "height": 618
        },
        "id": "5da1e8ed",
        "outputId": "bf08778b-590c-4b6f-8fc8-4fc6802a7b2e"
      },
      "outputs": [
        {
          "ename": "",
          "evalue": "",
          "output_type": "error",
          "traceback": [
            "\u001b[1;31mJupyter cannot be started. Error attempting to locate Jupyter: Select an Interpreter to start Jupyter\n",
            "\u001b[1;31mRun the following command to install 'jupyter and notebook' into the Python environment. \n",
            "\u001b[1;31mCommand: 'python -m pip install jupyter notebook -U\n",
            "\u001b[1;31mor\n",
            "\u001b[1;31mconda install jupyter notebook -U'\n",
            "\u001b[1;31mClick <a href='https://aka.ms/installJupyterForVSCode'>here</a> for more info."
          ]
        }
      ],
      "source": [
        "#plotting the correation between numerical variables\n",
        "plt.figure(figsize=(15,8))\n",
        "sns.heatmap(employees[num_cols].corr(),annot=True, fmt='0.2f', cmap='YlGnBu')"
      ]
    },
    {
      "cell_type": "markdown",
      "id": "231d85ef",
      "metadata": {
        "id": "231d85ef"
      },
      "source": [
        "**Observations:**\n",
        "\n",
        "- **Total work experience, monthly income, years at company and years with current manager are highly correlated with each other and with employee age** which is easy to understand as these variables show an increase with age for most employees. \n",
        "- Years at company and years in current role are correlated with years since last promotion which means that the company is not giving promotions at the right time."
      ]
    },
    {
      "cell_type": "markdown",
      "id": "62b1c31c",
      "metadata": {
        "id": "62b1c31c"
      },
      "source": [
        "**Now that we have explored our data. Let's build the model**"
      ]
    },
    {
      "cell_type": "markdown",
      "id": "c87d8b8c",
      "metadata": {
        "id": "c87d8b8c"
      },
      "source": [
        "## Model Building - Approach\n",
        "1. Prepare data for modeling\n",
        "2. Partition the data into train and test set.\n",
        "3. Build model on the train data.\n",
        "4. Tune the model if required.\n",
        "5. Test the data on test set."
      ]
    },
    {
      "cell_type": "markdown",
      "id": "9854fafc",
      "metadata": {
        "id": "9854fafc"
      },
      "source": [
        "###  Preparing data for modeling"
      ]
    },
    {
      "cell_type": "markdown",
      "id": "c73bfd10",
      "metadata": {
        "id": "c73bfd10"
      },
      "source": [
        "**Creating dummy variables for categorical Variables**"
      ]
    },
    {
      "cell_type": "code",
      "execution_count": null,
      "id": "10038cc3",
      "metadata": {
        "id": "10038cc3"
      },
      "outputs": [
        {
          "ename": "",
          "evalue": "",
          "output_type": "error",
          "traceback": [
            "\u001b[1;31mJupyter cannot be started. Error attempting to locate Jupyter: Select an Interpreter to start Jupyter\n",
            "\u001b[1;31mRun the following command to install 'jupyter and notebook' into the Python environment. \n",
            "\u001b[1;31mCommand: 'python -m pip install jupyter notebook -U\n",
            "\u001b[1;31mor\n",
            "\u001b[1;31mconda install jupyter notebook -U'\n",
            "\u001b[1;31mClick <a href='https://aka.ms/installJupyterForVSCode'>here</a> for more info."
          ]
        }
      ],
      "source": [
        "#creating list of dummy columns\n",
        "to_get_dummies_for = ['BusinessTravel', 'Department','Education', 'EducationField','EnvironmentSatisfaction', 'Gender',  'JobInvolvement','JobLevel', 'JobRole', 'MaritalStatus' ]\n",
        "\n",
        "#creating dummy variables\n",
        "employees = pd.get_dummies(data = employees, columns= to_get_dummies_for, drop_first= True)      \n",
        "\n",
        "#mapping overtime and attrition\n",
        "dict_OverTime = {'Yes': 1, 'No':0}\n",
        "dict_attrition = {'Yes': 1, 'No': 0}\n",
        "\n",
        "\n",
        "employees['OverTime'] = employees.OverTime.map(dict_OverTime)\n",
        "employees['Attrition'] = employees.Attrition.map(dict_attrition)"
      ]
    },
    {
      "cell_type": "markdown",
      "id": "8cf5d26f",
      "metadata": {
        "id": "8cf5d26f"
      },
      "source": [
        "**Separating the independent variables (X) and the dependent variable (Y)**"
      ]
    },
    {
      "cell_type": "code",
      "execution_count": null,
      "id": "76d1cc91",
      "metadata": {
        "id": "76d1cc91"
      },
      "outputs": [
        {
          "ename": "",
          "evalue": "",
          "output_type": "error",
          "traceback": [
            "\u001b[1;31mJupyter cannot be started. Error attempting to locate Jupyter: Select an Interpreter to start Jupyter\n",
            "\u001b[1;31mRun the following command to install 'jupyter and notebook' into the Python environment. \n",
            "\u001b[1;31mCommand: 'python -m pip install jupyter notebook -U\n",
            "\u001b[1;31mor\n",
            "\u001b[1;31mconda install jupyter notebook -U'\n",
            "\u001b[1;31mClick <a href='https://aka.ms/installJupyterForVSCode'>here</a> for more info."
          ]
        }
      ],
      "source": [
        "#Separating target variable and other variables\n",
        "Y= employees.Attrition\n",
        "X= employees.drop(columns = ['Attrition'])"
      ]
    },
    {
      "cell_type": "markdown",
      "id": "c389ff82",
      "metadata": {
        "id": "c389ff82"
      },
      "source": [
        "### Scaling the data\n",
        "\n",
        "The independent variables in this dataset have different scales. When features have differing scales from each other, there is a chance that a higher weightage will be given to features which have a higher magnitude, and they will dominate over other features whose magnitude changes may be smaller but whose percentage changes may be just as significant or even larger. This will impact the performance of our machine learning algorithm, and we do not want our algorithm to be biased towards one feature. \n",
        "\n",
        "The solution to this issue is **Feature Scaling**, i.e. scaling the dataset so as to give every transformed variable a comparable scale.\n",
        "\n",
        "In this problem, we will use the **Standard Scaler** method, which centers and scales the dataset using the Z-Score.\n",
        "\n",
        "It standardizes features by subtracting the mean and scaling it to have unit variance.\n",
        "\n",
        "The standard score of a sample x is calculated as:\n",
        "\n",
        "**z = (x - u) / s**\n",
        "\n",
        "where **u** is the mean of the training samples (zero) and **s** is the standard deviation of the training samples."
      ]
    },
    {
      "cell_type": "code",
      "execution_count": null,
      "id": "0e99f9cb",
      "metadata": {
        "id": "0e99f9cb"
      },
      "outputs": [
        {
          "ename": "",
          "evalue": "",
          "output_type": "error",
          "traceback": [
            "\u001b[1;31mJupyter cannot be started. Error attempting to locate Jupyter: Select an Interpreter to start Jupyter\n",
            "\u001b[1;31mRun the following command to install 'jupyter and notebook' into the Python environment. \n",
            "\u001b[1;31mCommand: 'python -m pip install jupyter notebook -U\n",
            "\u001b[1;31mor\n",
            "\u001b[1;31mconda install jupyter notebook -U'\n",
            "\u001b[1;31mClick <a href='https://aka.ms/installJupyterForVSCode'>here</a> for more info."
          ]
        }
      ],
      "source": [
        "#Scaling the data\n",
        "sc=StandardScaler()\n",
        "X_scaled=sc.fit_transform(X)\n",
        "X_scaled=pd.DataFrame(X_scaled, columns=X.columns)"
      ]
    },
    {
      "cell_type": "markdown",
      "id": "0d508522",
      "metadata": {
        "id": "0d508522"
      },
      "source": [
        "### Problem 1. Splitting the data into 70% train and 30% test set"
      ]
    },
    {
      "cell_type": "markdown",
      "id": "d5a7a233",
      "metadata": {
        "id": "d5a7a233"
      },
      "source": [
        "Some classification problems can exhibit a large imbalance in the distribution of the target classes: for instance there could be several times more negative samples than positive samples. In such cases it is recommended to use the **stratified sampling** technique to ensure that relative class frequencies are approximately preserved in each train and validation fold."
      ]
    },
    {
      "cell_type": "markdown",
      "id": "y_XUSomt8nqB",
      "metadata": {
        "id": "y_XUSomt8nqB"
      },
      "source": [
        "**1.a.** Complete the code to split the data into 70% training and 30% testing data. Use `stratify=y` to preserve relative class frequencies. "
      ]
    },
    {
      "cell_type": "code",
      "execution_count": null,
      "id": "96bfa6a3",
      "metadata": {
        "id": "96bfa6a3"
      },
      "outputs": [
        {
          "ename": "",
          "evalue": "",
          "output_type": "error",
          "traceback": [
            "\u001b[1;31mJupyter cannot be started. Error attempting to locate Jupyter: Select an Interpreter to start Jupyter\n",
            "\u001b[1;31mRun the following command to install 'jupyter and notebook' into the Python environment. \n",
            "\u001b[1;31mCommand: 'python -m pip install jupyter notebook -U\n",
            "\u001b[1;31mor\n",
            "\u001b[1;31mconda install jupyter notebook -U'\n",
            "\u001b[1;31mClick <a href='https://aka.ms/installJupyterForVSCode'>here</a> for more info."
          ]
        }
      ],
      "source": [
        "#splitting the data\n",
        "x_train,x_test,y_train,y_test=------(X_scaled,Y,test_size=----,random_state=1,stratify=Y)"
      ]
    },
    {
      "cell_type": "markdown",
      "id": "77645a49",
      "metadata": {
        "id": "77645a49"
      },
      "source": [
        "### Problem 2. Model evaluation criterion\n",
        "\n",
        "#### The model can make two types of wrong predictions:\n",
        "1. Predicting an employee will attrite when the employee doesn't attrite\n",
        "2. Predicting an employee will not attrite and the employee actually attrites\n",
        "\n",
        "**2.a. What are the consequeces of predicting that the employee will not attrite but the employee attrites?**        \n",
        "-  **-------** \n",
        "\n",
        "**2.b.** \n",
        "**Why would the company want to maximize the Recall of the model?**\n",
        "- **-------** "
      ]
    },
    {
      "cell_type": "markdown",
      "id": "67963d69",
      "metadata": {
        "id": "67963d69"
      },
      "source": [
        "Also, let's create a function to calculate and print the classification report and confusion matrix so that we don't have to rewrite the same code repeatedly for each model."
      ]
    },
    {
      "cell_type": "code",
      "execution_count": null,
      "id": "7b305008",
      "metadata": {
        "id": "7b305008"
      },
      "outputs": [
        {
          "ename": "",
          "evalue": "",
          "output_type": "error",
          "traceback": [
            "\u001b[1;31mJupyter cannot be started. Error attempting to locate Jupyter: Select an Interpreter to start Jupyter\n",
            "\u001b[1;31mRun the following command to install 'jupyter and notebook' into the Python environment. \n",
            "\u001b[1;31mCommand: 'python -m pip install jupyter notebook -U\n",
            "\u001b[1;31mor\n",
            "\u001b[1;31mconda install jupyter notebook -U'\n",
            "\u001b[1;31mClick <a href='https://aka.ms/installJupyterForVSCode'>here</a> for more info."
          ]
        }
      ],
      "source": [
        "#creating metric function \n",
        "def metrics_score(actual, predicted):\n",
        "    print(classification_report(actual, predicted))\n",
        "    cm = confusion_matrix(actual, predicted)\n",
        "    plt.figure(figsize=(8,5))\n",
        "    sns.heatmap(cm, annot=True,  fmt='.2f', xticklabels=['Not Attrite', 'Attrite'], yticklabels=['Not Attrite', 'Attrite'])\n",
        "    plt.ylabel('Actual')\n",
        "    plt.xlabel('Predicted')\n",
        "    plt.show()"
      ]
    },
    {
      "cell_type": "markdown",
      "id": "1de66d84",
      "metadata": {
        "id": "1de66d84"
      },
      "source": [
        "### Problem 3. Logistic Regression Model "
      ]
    },
    {
      "cell_type": "markdown",
      "id": "2a192a78",
      "metadata": {
        "id": "2a192a78"
      },
      "source": [
        "- Logistic Regression is a supervised learning algorithm which is used for **binary classification problems** i.e. where the dependent variable is categorical and has only two possible values. In logistic regression, we use the sigmoid function to calculate the probability of an event y, given some features x as:\n",
        "\n",
        "                                          P(y)=1/exp(1 + exp(-x))"
      ]
    },
    {
      "cell_type": "markdown",
      "id": "6H04-b1V_5KF",
      "metadata": {
        "id": "6H04-b1V_5KF"
      },
      "source": [
        "**3.a.** Instantiate the logistic regression model as `lg`.      \n"
      ]
    },
    {
      "cell_type": "code",
      "execution_count": null,
      "id": "1c3fec96",
      "metadata": {
        "id": "1c3fec96"
      },
      "outputs": [
        {
          "ename": "",
          "evalue": "",
          "output_type": "error",
          "traceback": [
            "\u001b[1;31mJupyter cannot be started. Error attempting to locate Jupyter: Select an Interpreter to start Jupyter\n",
            "\u001b[1;31mRun the following command to install 'jupyter and notebook' into the Python environment. \n",
            "\u001b[1;31mCommand: 'python -m pip install jupyter notebook -U\n",
            "\u001b[1;31mor\n",
            "\u001b[1;31mconda install jupyter notebook -U'\n",
            "\u001b[1;31mClick <a href='https://aka.ms/installJupyterForVSCode'>here</a> for more info."
          ]
        }
      ],
      "source": [
        "#fitting logistic regression model\n",
        "# 3.a. Instantiate the model\n",
        "lg=-----()"
      ]
    },
    {
      "cell_type": "markdown",
      "id": "sjlhNB6zXDMy",
      "metadata": {
        "id": "sjlhNB6zXDMy"
      },
      "source": [
        "**3.b.** Fit the model to the training data. "
      ]
    },
    {
      "cell_type": "code",
      "execution_count": null,
      "id": "IbUEWDqAXALH",
      "metadata": {
        "id": "IbUEWDqAXALH"
      },
      "outputs": [
        {
          "ename": "",
          "evalue": "",
          "output_type": "error",
          "traceback": [
            "\u001b[1;31mJupyter cannot be started. Error attempting to locate Jupyter: Select an Interpreter to start Jupyter\n",
            "\u001b[1;31mRun the following command to install 'jupyter and notebook' into the Python environment. \n",
            "\u001b[1;31mCommand: 'python -m pip install jupyter notebook -U\n",
            "\u001b[1;31mor\n",
            "\u001b[1;31mconda install jupyter notebook -U'\n",
            "\u001b[1;31mClick <a href='https://aka.ms/installJupyterForVSCode'>here</a> for more info."
          ]
        }
      ],
      "source": [
        "# 3.b. fit the model to the training data\n",
        "lg.----(----,----)"
      ]
    },
    {
      "cell_type": "markdown",
      "id": "f45ec38a",
      "metadata": {
        "id": "f45ec38a"
      },
      "source": [
        "\n",
        "**3.c. Checking model performance (train)**  \n",
        " Check the model performance on the training data. Use the `metrics_score` function built above. "
      ]
    },
    {
      "cell_type": "code",
      "execution_count": null,
      "id": "9a3062aa",
      "metadata": {
        "id": "9a3062aa"
      },
      "outputs": [
        {
          "ename": "",
          "evalue": "",
          "output_type": "error",
          "traceback": [
            "\u001b[1;31mJupyter cannot be started. Error attempting to locate Jupyter: Select an Interpreter to start Jupyter\n",
            "\u001b[1;31mRun the following command to install 'jupyter and notebook' into the Python environment. \n",
            "\u001b[1;31mCommand: 'python -m pip install jupyter notebook -U\n",
            "\u001b[1;31mor\n",
            "\u001b[1;31mconda install jupyter notebook -U'\n",
            "\u001b[1;31mClick <a href='https://aka.ms/installJupyterForVSCode'>here</a> for more info."
          ]
        }
      ],
      "source": [
        "# 3.c. checking the performance on the training data\n",
        "y_pred_train = lg.----(----)\n",
        "metrics_score(----, ----)"
      ]
    },
    {
      "cell_type": "markdown",
      "id": "3_GjmDJNBOo_",
      "metadata": {
        "id": "3_GjmDJNBOo_"
      },
      "source": [
        "\n",
        "**3.d. Checking model performance (test)**     \n",
        "Check the model performance on the testing data. Use the `metrics_score` function built above. "
      ]
    },
    {
      "cell_type": "code",
      "execution_count": null,
      "id": "218089fd",
      "metadata": {
        "id": "218089fd"
      },
      "outputs": [
        {
          "ename": "",
          "evalue": "",
          "output_type": "error",
          "traceback": [
            "\u001b[1;31mJupyter cannot be started. Error attempting to locate Jupyter: Select an Interpreter to start Jupyter\n",
            "\u001b[1;31mRun the following command to install 'jupyter and notebook' into the Python environment. \n",
            "\u001b[1;31mCommand: 'python -m pip install jupyter notebook -U\n",
            "\u001b[1;31mor\n",
            "\u001b[1;31mconda install jupyter notebook -U'\n",
            "\u001b[1;31mClick <a href='https://aka.ms/installJupyterForVSCode'>here</a> for more info."
          ]
        }
      ],
      "source": [
        "# 3.d. checking the performance on the test dataset\n",
        "y_pred_test = lg.----(----)\n",
        "metrics_score(----, ----)"
      ]
    },
    {
      "cell_type": "markdown",
      "id": "382c8e52",
      "metadata": {
        "id": "382c8e52"
      },
      "source": [
        "**3.e. Share 3 to 4 observations based on the metrics generated above.**\n",
        "\n",
        "**Observations:**\n",
        "- **-----**\n",
        "- **-----**\n",
        "- **-----**\n"
      ]
    },
    {
      "cell_type": "markdown",
      "id": "dc744c23",
      "metadata": {
        "id": "dc744c23"
      },
      "source": [
        "**Let's check the coefficients and find which variables are leading to attrition and which can help to reduce the attrition**"
      ]
    },
    {
      "cell_type": "code",
      "execution_count": null,
      "id": "82beae47",
      "metadata": {
        "id": "82beae47"
      },
      "outputs": [
        {
          "ename": "",
          "evalue": "",
          "output_type": "error",
          "traceback": [
            "\u001b[1;31mJupyter cannot be started. Error attempting to locate Jupyter: Select an Interpreter to start Jupyter\n",
            "\u001b[1;31mRun the following command to install 'jupyter and notebook' into the Python environment. \n",
            "\u001b[1;31mCommand: 'python -m pip install jupyter notebook -U\n",
            "\u001b[1;31mor\n",
            "\u001b[1;31mconda install jupyter notebook -U'\n",
            "\u001b[1;31mClick <a href='https://aka.ms/installJupyterForVSCode'>here</a> for more info."
          ]
        }
      ],
      "source": [
        "#printing the coefficients of logistic regression\n",
        "cols=X.columns\n",
        "\n",
        "coef_lg=lg.coef_\n",
        "\n",
        "pd.DataFrame(coef_lg,columns=cols).T.sort_values(by=0,ascending=False)"
      ]
    },
    {
      "cell_type": "markdown",
      "id": "163545b6",
      "metadata": {
        "id": "163545b6"
      },
      "source": [
        "**Observations:**\n",
        "\n",
        "\n",
        "**Features which string positive affect on the attrition rate are:**\n",
        "- OverTime\t\n",
        "- BusinessTravel_Travel_Frequently\t\n",
        "- Department_Research & Development\t\n",
        "- JobRole_Sales Executive\t\n",
        "- MaritalStatus_Single\t\n",
        "- Department_Sales\t\n",
        "- NumCompaniesWorked\t\n",
        "- YearsSinceLastPromotion\n",
        "- JobLevel_5\t\n",
        "- BusinessTravel_Travel_Rarely\n",
        "- DistanceFromHome\n",
        "- YearsAtCompany\t\n",
        "- JobRole_Human Resources\t\n",
        "- JobRole_Sales Representative\n",
        "\n",
        "**Features which string negative affect on the attrition rate are:**\n",
        "- MonthlyIncome\t\n",
        "- JobInvolvement_3\t\n",
        "- JobLevel_2\t\n",
        "- EnvironmentSatisfaction_4\t\n",
        "- JobInvolvement_4\t\n",
        "- JobInvolvement_2\t\n",
        "- EnvironmentSatisfaction_3\t\n",
        "- EducationField_Life Sciences\t\n",
        "- EnvironmentSatisfaction_2\t\n",
        "- YearsWithCurrManager\t\n",
        "- JobRole_Research Director\t\n",
        "- TotalWorkingYears\t\n",
        "- JobSatisfaction\t\n",
        "\n",
        "**The features identified as important are similar for both the Tree model and the logistic regression model. Notice that we are able to see a bit more detail in the logistic regression results with the + and - contributions.**"
      ]
    },
    {
      "cell_type": "markdown",
      "id": "4291d05e",
      "metadata": {
        "id": "4291d05e"
      },
      "source": [
        "The coefficients of the logistic regression model give us the log of odds, which is hard to interpret in the real world. We can convert the log of odds into real odds by taking its exponential."
      ]
    },
    {
      "cell_type": "code",
      "execution_count": null,
      "id": "9d48313b",
      "metadata": {
        "id": "9d48313b"
      },
      "outputs": [
        {
          "ename": "",
          "evalue": "",
          "output_type": "error",
          "traceback": [
            "\u001b[1;31mJupyter cannot be started. Error attempting to locate Jupyter: Select an Interpreter to start Jupyter\n",
            "\u001b[1;31mRun the following command to install 'jupyter and notebook' into the Python environment. \n",
            "\u001b[1;31mCommand: 'python -m pip install jupyter notebook -U\n",
            "\u001b[1;31mor\n",
            "\u001b[1;31mconda install jupyter notebook -U'\n",
            "\u001b[1;31mClick <a href='https://aka.ms/installJupyterForVSCode'>here</a> for more info."
          ]
        }
      ],
      "source": [
        "odds = np.exp(lg.coef_[0]) #finding the odds\n",
        "\n",
        "# adding the odds to a dataframe and sorting the values\n",
        "pd.DataFrame(odds, x_train.columns, columns=['odds']).sort_values(by='odds', ascending=False) "
      ]
    },
    {
      "cell_type": "markdown",
      "id": "8f068e40",
      "metadata": {
        "id": "8f068e40"
      },
      "source": [
        "### Problem 4. Meaning of Coefficients\n",
        "EXAMPLE: The odds of an employee working overtime to attrite are **2.6 times** the odds of one who is not, probably due to the fact that working overtime is not sustainable for an extended duration for any employee, and may lead to burnout and job dissatisfaction.\n",
        "     \n",
        "**4.a.** What is the impact of frquent travel on the odds that an employee will attrite? \n",
        "   \n",
        "- **-----**    \n",
        "\n",
        "**4.b.** What is the impact of marital status on the odds that an employee will attrite? \n",
        "   \n",
        "- **-----**   "
      ]
    },
    {
      "cell_type": "markdown",
      "id": "991566fe",
      "metadata": {
        "id": "991566fe"
      },
      "source": [
        "**Precision-Recall Curve for logistic regression**"
      ]
    },
    {
      "cell_type": "code",
      "execution_count": null,
      "id": "9ee22ec1",
      "metadata": {
        "id": "9ee22ec1"
      },
      "outputs": [
        {
          "ename": "",
          "evalue": "",
          "output_type": "error",
          "traceback": [
            "\u001b[1;31mJupyter cannot be started. Error attempting to locate Jupyter: Select an Interpreter to start Jupyter\n",
            "\u001b[1;31mRun the following command to install 'jupyter and notebook' into the Python environment. \n",
            "\u001b[1;31mCommand: 'python -m pip install jupyter notebook -U\n",
            "\u001b[1;31mor\n",
            "\u001b[1;31mconda install jupyter notebook -U'\n",
            "\u001b[1;31mClick <a href='https://aka.ms/installJupyterForVSCode'>here</a> for more info."
          ]
        }
      ],
      "source": [
        "y_scores_lg=lg.predict_proba(x_train) #predict_proba gives the probability of each observation belonging to each class\n",
        "\n",
        "\n",
        "precisions_lg, recalls_lg, thresholds_lg = precision_recall_curve(y_train, y_scores_lg[:,1])\n",
        "\n",
        "#Plot values of precisions, recalls, and thresholds\n",
        "plt.figure(figsize=(10,7))\n",
        "plt.plot(thresholds_lg, precisions_lg[:-1], 'b--', label='precision')\n",
        "plt.plot(thresholds_lg, recalls_lg[:-1], 'g--', label = 'recall')\n",
        "plt.xlabel('Threshold')\n",
        "plt.legend(loc='upper left')\n",
        "plt.ylim([0,1])\n",
        "plt.show()"
      ]
    },
    {
      "cell_type": "markdown",
      "id": "da12cf85",
      "metadata": {
        "id": "da12cf85"
      },
      "source": [
        "**Observation:**\n",
        "- We can see that precision and recall are balanced for a threshold of about ~**0.35**.\n",
        "\n",
        "**Let's find out the performance of the model at this threshold**"
      ]
    },
    {
      "cell_type": "code",
      "execution_count": null,
      "id": "5611de61",
      "metadata": {
        "id": "5611de61"
      },
      "outputs": [
        {
          "ename": "",
          "evalue": "",
          "output_type": "error",
          "traceback": [
            "\u001b[1;31mJupyter cannot be started. Error attempting to locate Jupyter: Select an Interpreter to start Jupyter\n",
            "\u001b[1;31mRun the following command to install 'jupyter and notebook' into the Python environment. \n",
            "\u001b[1;31mCommand: 'python -m pip install jupyter notebook -U\n",
            "\u001b[1;31mor\n",
            "\u001b[1;31mconda install jupyter notebook -U'\n",
            "\u001b[1;31mClick <a href='https://aka.ms/installJupyterForVSCode'>here</a> for more info."
          ]
        }
      ],
      "source": [
        "optimal_threshold1=.35\n",
        "y_pred_train = lg.predict_proba(x_train)\n",
        "metrics_score(y_train, y_pred_train[:,1]>optimal_threshold1)"
      ]
    },
    {
      "cell_type": "markdown",
      "id": "e048d817",
      "metadata": {
        "id": "e048d817"
      },
      "source": [
        "- **The model performance has improved. The recall has increased significantly for class 1.**\n",
        "- Let's check the performance on the test data."
      ]
    },
    {
      "cell_type": "code",
      "execution_count": null,
      "id": "914fc850",
      "metadata": {
        "id": "914fc850"
      },
      "outputs": [
        {
          "ename": "",
          "evalue": "",
          "output_type": "error",
          "traceback": [
            "\u001b[1;31mJupyter cannot be started. Error attempting to locate Jupyter: Select an Interpreter to start Jupyter\n",
            "\u001b[1;31mRun the following command to install 'jupyter and notebook' into the Python environment. \n",
            "\u001b[1;31mCommand: 'python -m pip install jupyter notebook -U\n",
            "\u001b[1;31mor\n",
            "\u001b[1;31mconda install jupyter notebook -U'\n",
            "\u001b[1;31mClick <a href='https://aka.ms/installJupyterForVSCode'>here</a> for more info."
          ]
        }
      ],
      "source": [
        "optimal_threshold1=.35\n",
        "y_pred_test = lg.predict_proba(x_test)\n",
        "metrics_score(y_test, y_pred_test[:,1]>optimal_threshold1)"
      ]
    },
    {
      "cell_type": "markdown",
      "id": "Wj3ZKg_v3kg6",
      "metadata": {
        "id": "Wj3ZKg_v3kg6"
      },
      "source": [
        "### Problem 5 Comparison with Tree Induction\n",
        "\n",
        "#### Take a little time to look back at our earlier exercise analyzing the employee data using tree induction. \n",
        "**5.a.** What pre-processing step was necessary when preparing the data for a logistic regression that was not necessary for the tree induction model? \n",
        "- **-----**\n",
        "     \n",
        "**5.b.** How did the performances of the logistic and tree induction models compare?\n",
        "- **-----**\n",
        "   \n",
        "**5.c.** Did the models identify the same features as important in predicting attrition? What similarities and differences did you observe in the feature importances? \n",
        "- **-----**\n",
        "    \n",
        "**5.d.** What other classification models would be appropriate for this data set? (feel free to do a little research) \n",
        "- **-----**\n",
        "\n"
      ]
    }
  ],
  "metadata": {
    "colab": {
      "collapsed_sections": [
        "d6700f10",
        "91a960cf",
        "f367a777",
        "38857a84"
      ],
      "provenance": []
    },
    "kernelspec": {
      "display_name": "Python 3",
      "language": "python",
      "name": "python3"
    },
    "language_info": {
      "codemirror_mode": {
        "name": "ipython",
        "version": 3
      },
      "file_extension": ".py",
      "mimetype": "text/x-python",
      "name": "python",
      "nbconvert_exporter": "python",
      "pygments_lexer": "ipython3",
      "version": "3.10.1 (v3.10.1:2cd268a3a9, Dec  6 2021, 14:28:59) [Clang 13.0.0 (clang-1300.0.29.3)]"
    },
    "vscode": {
      "interpreter": {
        "hash": "aee8b7b246df8f9039afb4144a1f6fd8d2ca17a180786b69acc140d282b71a49"
      }
    }
  },
  "nbformat": 4,
  "nbformat_minor": 5
}
